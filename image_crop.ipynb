{
 "cells": [
  {
   "cell_type": "code",
   "execution_count": 2,
   "metadata": {},
   "outputs": [
    {
     "name": "stdout",
     "output_type": "stream",
     "text": [
      "3\n"
     ]
    },
    {
     "data": {
      "text/plain": [
       "<Figure size 720x720 with 0 Axes>"
      ]
     },
     "metadata": {},
     "output_type": "display_data"
    }
   ],
   "source": [
    "import PIL.Image as Image\n",
    "from glob import glob\n",
    "from os.path import join,dirname,basename\n",
    "import os\n",
    "import matplotlib.pyplot as plt\n",
    "\n",
    "img_path = '/data/'\n",
    "file_list = open('/data/valid_with_box.csv').readlines()\n",
    "plt.figure(figsize=(10,10))\n",
    "uncropped_file = []\n",
    "for f in file_list[1:]:\n",
    "    f_name = f.split(',')[0]\n",
    "    img = Image.open(join(img_path, f_name))\n",
    "    try:\n",
    "        xmin = int(float(f.split(',')[1]))\n",
    "        ymin = int(float(f.split(',')[2]))\n",
    "        xmax = int(float(f.split(',')[3]))\n",
    "        ymax = int(float(f.split(',')[4]))\n",
    "        img = img.crop((xmin,ymin,xmax,ymax))\n",
    "        save_path = join(img_path, 'cropped_data', f_name)\n",
    "        os.makedirs(dirname(save_path), exist_ok=True)\n",
    "        img.save(save_path)\n",
    "    except:\n",
    "        uncropped_file.append(f_name)\n",
    "print(len(uncropped_file))"
   ]
  },
  {
   "cell_type": "code",
   "execution_count": null,
   "metadata": {},
   "outputs": [],
   "source": []
  }
 ],
 "metadata": {
  "kernelspec": {
   "display_name": "Python 3",
   "language": "python",
   "name": "python3"
  },
  "language_info": {
   "codemirror_mode": {
    "name": "ipython",
    "version": 3
   },
   "file_extension": ".py",
   "mimetype": "text/x-python",
   "name": "python",
   "nbconvert_exporter": "python",
   "pygments_lexer": "ipython3",
   "version": "3.6.9"
  }
 },
 "nbformat": 4,
 "nbformat_minor": 4
}
