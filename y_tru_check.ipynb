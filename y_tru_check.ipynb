{
 "cells": [
  {
   "cell_type": "code",
   "execution_count": 3,
   "metadata": {},
   "outputs": [],
   "source": [
    "import os\n",
    "os.environ[\"CUDA_DEVICE_ORDER\"]=\"PCI_BUS_ID\"   \n",
    "os.environ[\"CUDA_VISIBLE_DEVICES\"]=\"1\""
   ]
  },
  {
   "cell_type": "code",
   "execution_count": 4,
   "metadata": {},
   "outputs": [],
   "source": [
    "import tensorflow as tf\n",
    "for gpu in tf.config.experimental.list_physical_devices('GPU'):\n",
    "    tf.compat.v2.config.experimental.set_memory_growth(gpu, True)\n",
    "    \n",
    "import math\n",
    "import keras\n",
    "from keras import backend as K\n",
    "from keras.models import load_model\n",
    "from keras.preprocessing import image\n",
    "from keras.optimizers import Adam\n",
    "from imageio import imread\n",
    "import numpy as np\n",
    "from matplotlib import pyplot as plt\n",
    "\n",
    "from models.keras_blazeface import blazeface\n",
    "from keras_loss_function.keras_ssd_loss import SSDLoss\n",
    "from keras_layers.keras_layer_AnchorBoxesBlazeFace import AnchorBoxes\n",
    "from keras_layers.keras_layer_DecodeDetections import DecodeDetections\n",
    "from keras_layers.keras_layer_DecodeDetectionsFast import DecodeDetectionsFast\n",
    "from keras_layers.keras_layer_L2Normalization import L2Normalization\n",
    "from ssd_encoder_decoder.ssd_input_encoder_blazeface import SSDInputEncoder\n",
    "from ssd_encoder_decoder.ssd_output_decoder_blazeface import decode_detections, decode_detections_fast\n",
    "\n",
    "from data_generator.object_detection_2d_data_generator import DataGenerator\n",
    "from data_generator.object_detection_2d_geometric_ops import Resize\n",
    "from data_generator.object_detection_2d_photometric_ops import ConvertTo3Channels\n",
    "from data_generator.data_augmentation_chain_original_ssd import SSDDataAugmentation\n",
    "from data_generator.object_detection_2d_misc_utils import apply_inverse_transforms\n",
    "from data_generator.object_detection_2d_photometric_ops import ConvertTo3Channels\n",
    "from data_generator.object_detection_2d_geometric_ops import Resize\n",
    "\n",
    "%matplotlib inline"
   ]
  },
  {
   "cell_type": "code",
   "execution_count": 5,
   "metadata": {},
   "outputs": [],
   "source": [
    "# Set the image size.\n",
    "img_height = 128\n",
    "img_width = 128"
   ]
  },
  {
   "cell_type": "code",
   "execution_count": 6,
   "metadata": {},
   "outputs": [],
   "source": [
    "# 1: Build the Keras model\n",
    "\n",
    "K.clear_session() # Clear previous models from memory.\n",
    "\n",
    "model = blazeface(image_size=(img_height, img_width, 3),\n",
    "                n_classes=1,\n",
    "                mode='inference',\n",
    "                l2_regularization=0.0005,\n",
    "                scales=[[0.2]], # The scales for MS COCO are [0.07, 0.15, 0.33, 0.51, 0.69, 0.87, 1.05]\n",
    "                aspect_ratios_per_layer=[[1.0]],\n",
    "                steps=[64],\n",
    "                offsets=None,\n",
    "                clip_boxes=False,\n",
    "                variances=[0.1, 0.1, 0.2, 0.2],\n",
    "                normalize_coords=True,\n",
    "                subtract_mean=[107, 105, 109],\n",
    "                swap_channels=[2, 1, 0],\n",
    "                confidence_thresh=0.1,\n",
    "                iou_threshold=0.45,\n",
    "                top_k=200,\n",
    "                nms_max_output_size=400)\n",
    "\n",
    "# 2: Load the trained weights into the model.\n",
    "\n",
    "# TODO: Set the path of the trained weights.\n",
    "weights_path = 'checkpoint/blazeface_with_26landmark_without_box_epoch-76_loss-7244.8734.h5'\n",
    "\n",
    "# model.load_weights(weights_path, by_name=True)\n",
    "\n",
    "# 3: Compile the model so that Keras won't complain the next time you load it.\n",
    "\n",
    "adam = Adam(lr=0.001, beta_1=0.9, beta_2=0.999, epsilon=1e-08, decay=0.0)\n",
    "\n",
    "ssd_loss = SSDLoss(neg_pos_ratio=3, alpha=1.0)\n",
    "\n",
    "model.compile(optimizer=adam, loss=ssd_loss.compute_loss)"
   ]
  },
  {
   "cell_type": "code",
   "execution_count": 7,
   "metadata": {},
   "outputs": [
    {
     "name": "stdout",
     "output_type": "stream",
     "text": [
      "Model: \"model_2\"\n",
      "__________________________________________________________________________________________________\n",
      "Layer (type)                    Output Shape         Param #     Connected to                     \n",
      "==================================================================================================\n",
      "input_1 (InputLayer)            (None, 128, 128, 3)  0                                            \n",
      "__________________________________________________________________________________________________\n",
      "identity_layer (Lambda)         (None, 128, 128, 3)  0           input_1[0][0]                    \n",
      "__________________________________________________________________________________________________\n",
      "input_mean_normalization (Lambd (None, 128, 128, 3)  0           identity_layer[0][0]             \n",
      "__________________________________________________________________________________________________\n",
      "input_channel_swap (Lambda)     (None, 128, 128, 3)  0           input_mean_normalization[0][0]   \n",
      "__________________________________________________________________________________________________\n",
      "model_1 (Model)                 (None, 8, 8, 96)     59976       input_channel_swap[0][0]         \n",
      "__________________________________________________________________________________________________\n",
      "conv2d_2 (Conv2D)               (None, 4, 4, 52)     44980       model_1[1][0]                    \n",
      "__________________________________________________________________________________________________\n",
      "conv2d_3 (Conv2D)               (None, 4, 4, 52)     44980       model_1[1][0]                    \n",
      "__________________________________________________________________________________________________\n",
      "average_pooling2d_1 (AveragePoo (None, 1, 1, 52)     0           conv2d_2[0][0]                   \n",
      "__________________________________________________________________________________________________\n",
      "average_pooling2d_2 (AveragePoo (None, 1, 1, 52)     0           conv2d_3[0][0]                   \n",
      "__________________________________________________________________________________________________\n",
      "landmark_reshape (Reshape)      (None, 1, 52)        0           average_pooling2d_1[0][0]        \n",
      "__________________________________________________________________________________________________\n",
      "anchor_reshape (Reshape)        (None, 1, 52)        0           average_pooling2d_2[0][0]        \n",
      "__________________________________________________________________________________________________\n",
      "predictions (Concatenate)       (None, 1, 104)       0           landmark_reshape[0][0]           \n",
      "                                                                 anchor_reshape[0][0]             \n",
      "__________________________________________________________________________________________________\n",
      "decoded_predictions (DecodeDete (None, <tf.Tensor: s 0           predictions[0][0]                \n",
      "==================================================================================================\n",
      "Total params: 149,936\n",
      "Trainable params: 148,064\n",
      "Non-trainable params: 1,872\n",
      "__________________________________________________________________________________________________\n"
     ]
    }
   ],
   "source": [
    "model.summary()\n"
   ]
  },
  {
   "cell_type": "code",
   "execution_count": 8,
   "metadata": {},
   "outputs": [],
   "source": [
    "train_images_dir = \"/data/\"\n",
    "train_anno_file = \"/data/train_with_box.csv\"\n",
    "\n",
    "train_dataset = DataGenerator(load_images_into_memory=None, hdf5_dataset_path=None)\n",
    "\n",
    "# Ground truth\n",
    "train_labels_filename = train_anno_file\n",
    "\n",
    "\n",
    "train_dataset.parse_csv(images_dir=train_images_dir,\n",
    "                        labels_filename=train_labels_filename,\n",
    "                        input_format=['image_name','xmin','ymin','xmax', 'ymax', 'kp1_x','kp1_y','kp2_x','kp2_y','kp3_x','kp3_y','kp4_x','kp4_y','kp5_x','kp5_y',\n",
    "                                           'kp6_x','kp6_y','kp7_x','kp7_y','kp8_x','kp8_y','kp9_x','kp9_y','kp10_x','kp10_y','kp11_x','kp11_y','kp12_x','kp12_y','kp13_x',\n",
    "                                           'kp13_y','kp14_x','kp14_y','kp15_x','kp15_y','kp16_x','kp16_y','kp17_x','kp17_y','kp18_x','kp18_y','kp19_x','kp19_y','kp20_x','kp20_y','kp21_x',\n",
    "                                           'kp21_y','kp22_x','kp22_y','kp23_x','kp23_y','kp24_x','kp24_y','kp25_x','kp25_y','kp26_x','kp26_y','class_id'],\n",
    "                        include_classes='all')"
   ]
  },
  {
   "cell_type": "code",
   "execution_count": 9,
   "metadata": {},
   "outputs": [],
   "source": [
    "batch_size = 32\n",
    "predictor_sizes = np.array([16,16])\n",
    "img_channels = 3 # Number of color channels of the model input images\n",
    "mean_color = [123, 117, 104] # The per-channel mean of the images in the dataset. Do not change this value if you're using any of the pre-trained weights.\n",
    "swap_channels = [2, 1, 0] # The color channel order in the original SSD is BGR, so we'll have the model reverse the color channel order of the input images.\n",
    "n_classes = 1 # Number of positive classes, e.g. 20 for Pascal VOC, 80 for MS COCO\n",
    "scales = [[0.2]]\n",
    "aspect_ratios = [[1.0]] # The anchor box aspect ratios\n",
    "steps = [64] # The space between two adjacent anchor box center points for each predictor layer.\n",
    "offsets = None # The offsets of the first anchor box center points from the top and left borders of the image as a fraction of the step size for each predictor layer.\n",
    "clip_boxes = False # Whether or not to clip the anchor boxes to lie entirely within the image boundaries\n",
    "variances = [0.1, 0.1, 0.2, 0.2] # The variances by which the encoded target coordinates are divided as in the original implementation\n",
    "normalize_coords = True\n",
    "ssd_data_augmentation = SSDDataAugmentation(img_height=img_height,\n",
    "                                            img_width=img_width,\n",
    "                                            background=mean_color)\n",
    "convert_to_3_channels = ConvertTo3Channels()\n",
    "resize = Resize(height=img_height, width=img_width)\n",
    "\n",
    "\n",
    "ssd_input_encoder = SSDInputEncoder(img_height=img_height,\n",
    "                                    img_width=img_width,\n",
    "                                    n_classes=n_classes,\n",
    "                                    predictor_sizes=predictor_sizes,\n",
    "                                    scales=scales,\n",
    "                                    aspect_ratios_per_layer=aspect_ratios,\n",
    "                                    steps=steps,\n",
    "                                    offsets=offsets,\n",
    "                                    clip_boxes=clip_boxes,\n",
    "                                    variances=variances,\n",
    "                                    matching_type='multi',\n",
    "                                    pos_iou_threshold=0.5,\n",
    "                                    neg_iou_limit=0.5,\n",
    "                                    normalize_coords=normalize_coords)\n",
    "\n",
    "train_generator = train_dataset.generate(batch_size=batch_size,\n",
    "                                        shuffle=True,\n",
    "                                        transformations=[ssd_data_augmentation],\n",
    "                                        label_encoder=ssd_input_encoder,\n",
    "                                        returns={'processed_images',\n",
    "                                                'encoded_labels',\n",
    "                                                'filenames'},\n",
    "                                        keep_images_without_gt=normalize_coords)"
   ]
  },
  {
   "cell_type": "code",
   "execution_count": 10,
   "metadata": {},
   "outputs": [],
   "source": [
    "a = next(train_generator)"
   ]
  },
  {
   "cell_type": "code",
   "execution_count": 11,
   "metadata": {},
   "outputs": [
    {
     "name": "stdout",
     "output_type": "stream",
     "text": [
      "model output shape : (32, 1, 104)\n",
      "input image shape :  (32, 128, 128, 3)\n",
      "data file name :  /data/Korea_Male_4/20200916_day_shadow_03/Class_2/frame/1_20200916_day_shadow_03/1_20200916_day_shadow_03_4 8.jpg\n"
     ]
    }
   ],
   "source": [
    "print(\"model output shape :\", a[1].shape)\n",
    "print(\"input image shape : \", a[0].shape)\n",
    "print(\"data file name : \", a[2][1])"
   ]
  },
  {
   "cell_type": "code",
   "execution_count": 12,
   "metadata": {},
   "outputs": [],
   "source": [
    "confidence_thresh=0.01\n",
    "iou_threshold=0.45\n",
    "nms_max_output_size=400\n",
    "normalize_coords=False\n",
    "coords='centroids'\n",
    "top_k = 200\n",
    "decoded_predictions = DecodeDetections(confidence_thresh=confidence_thresh,\n",
    "                                                   iou_threshold=iou_threshold,\n",
    "                                                   top_k=top_k,\n",
    "                                                   nms_max_output_size=nms_max_output_size,\n",
    "                                                   coords=coords,\n",
    "                                                   normalize_coords=normalize_coords,\n",
    "                                                   img_height=img_height,\n",
    "                                                   img_width=img_width,\n",
    "                                                   name='decoded_predictions')\n"
   ]
  },
  {
   "cell_type": "code",
   "execution_count": 13,
   "metadata": {},
   "outputs": [],
   "source": [
    "y_pred = tf.convert_to_tensor(a[1])\n",
    "y_pred = tf.cast(y_pred,tf.float32)\n",
    "output = decoded_predictions.call(y_pred)"
   ]
  },
  {
   "cell_type": "code",
   "execution_count": 14,
   "metadata": {},
   "outputs": [
    {
     "data": {
      "text/plain": [
       "<tf.Tensor: shape=(52,), dtype=float32, numpy=\n",
       "array([ 0.05070312, -0.0153125 , -0.15757813, -0.05710937,  0.0340625 ,\n",
       "       -0.10507812, -0.6207031 , -0.31523436,  0.0540625 , -0.08148438,\n",
       "        0.07507812, -0.06960937, -0.5767969 , -0.21328124, -0.56609374,\n",
       "       -0.240625  , -0.24726562, -0.48273438, -0.434375  , -0.23695312,\n",
       "        0.0115625 , -0.16117187, -0.51      , -0.34625   ,  0.01195312,\n",
       "       -0.17179687,  0.01101562, -0.23289062,  0.02390625, -0.08484375,\n",
       "        0.03382812, -0.12617187, -0.01617187, -0.37984374,  0.2540625 ,\n",
       "       -0.06773438, -0.055     , -0.40015626, -0.024375  , -0.38859376,\n",
       "        0.06210937, -0.41429687,  0.27679688,  0.03      ,  0.01046875,\n",
       "       -0.4609375 ,  0.01453125, -0.48539063,  0.05882813, -0.4141406 ,\n",
       "        0.08828125, -0.42734376], dtype=float32)>"
      ]
     },
     "execution_count": 14,
     "metadata": {},
     "output_type": "execute_result"
    }
   ],
   "source": [
    "output[0][0]"
   ]
  },
  {
   "cell_type": "code",
   "execution_count": 15,
   "metadata": {},
   "outputs": [],
   "source": [
    "anchor = [ float(x) for x in open('anchors.txt').readline().split(',') if x != '']"
   ]
  },
  {
   "cell_type": "code",
   "execution_count": 16,
   "metadata": {},
   "outputs": [],
   "source": [
    "output = np.add(y_pred[0,0,:52], anchor)"
   ]
  },
  {
   "cell_type": "code",
   "execution_count": 17,
   "metadata": {},
   "outputs": [
    {
     "data": {
      "text/plain": [
       "array([ 17.56070312,  31.9446875 ,  19.01242187,   6.25289063,\n",
       "        60.6740625 ,  42.34492188,  77.8292969 ,  39.03476564,\n",
       "        40.1340625 ,  35.34851562,  38.46507812,  38.84039063,\n",
       "        72.25320311,  26.08671876,  70.89390626,  29.55937501,\n",
       "        30.40273438,  60.30726562,  54.16562501,  29.09304688,\n",
       "        56.5315625 ,  61.46882813,  63.77000001,  42.97375   ,\n",
       "        48.48195312,  63.81820313,  48.60101562,  71.57710938,\n",
       "        96.96390625,  54.77515625,  95.70382812,  60.02382813,\n",
       "        68.05382813, 110.24015626,  71.7340625 ,  71.60226562,\n",
       "        96.985     , 105.81984374,  91.095625  , 117.35140624,\n",
       "        62.11210937, 145.61570313,  67.84679688,  87.19      ,\n",
       "        92.67046875, 136.5390625 ,  92.15453125, 143.64460937,\n",
       "        91.52882813, 148.59585939,  91.78828125, 157.27265624])"
      ]
     },
     "execution_count": 17,
     "metadata": {},
     "output_type": "execute_result"
    }
   ],
   "source": [
    "output"
   ]
  },
  {
   "cell_type": "code",
   "execution_count": 14,
   "metadata": {
    "collapsed": true,
    "jupyter": {
     "outputs_hidden": true,
     "source_hidden": true
    }
   },
   "outputs": [
    {
     "name": "stdout",
     "output_type": "stream",
     "text": [
      "(32, 256, 54)\n",
      "Predicted boxes:\n",
      "\n",
      "   class    conf     xmin     ymin     xmax     ymax    kp1_x   kp1_y   kp2_x    kp2_y   kp3_x     kp3_y    kp4_x    kp4_y   kp5_x   kp5_y\n",
      "tf.Tensor(\n",
      "[[0.   1.   2.46 ... 0.7  0.61 0.73]\n",
      " [0.   1.   2.46 ... 0.7  0.61 0.73]\n",
      " [0.   1.   2.46 ... 0.7  0.61 0.73]\n",
      " ...\n",
      " [0.   1.   2.46 ... 0.7  0.61 0.73]\n",
      " [0.   1.   2.46 ... 0.7  0.61 0.73]\n",
      " [0.   1.   2.46 ... 0.7  0.61 0.73]], shape=(256, 54), dtype=float32)\n",
      "(256, 54)\n"
     ]
    }
   ],
   "source": [
    "confidence_threshold = 0\n",
    "print(output.shape)\n",
    "y_pred_thresh = [output[k][output[k,:,1] > confidence_threshold] for k in range(output.shape[0])]\n",
    "\n",
    "np.set_printoptions(precision=2, suppress=True, linewidth=90)\n",
    "print(\"Predicted boxes:\\n\")\n",
    "print('   class    conf     xmin     ymin     xmax     ymax    kp1_x   kp1_y   kp2_x    kp2_y   kp3_x     kp3_y    kp4_x    kp4_y   kp5_x   kp5_y')\n",
    "print(y_pred_thresh[0])\n",
    "print(y_pred_thresh[0].shape)"
   ]
  },
  {
   "cell_type": "code",
   "execution_count": 18,
   "metadata": {},
   "outputs": [
    {
     "data": {
      "image/png": "[encoded data removed]",
      "text/plain": [
       "<Figure size 1440x864 with 1 Axes>"
      ]
     },
     "metadata": {
      "needs_background": "light"
     },
     "output_type": "display_data"
    }
   ],
   "source": [
    "# Display the image and draw the predicted boxes onto it.\n",
    "from PIL import Image\n",
    "# Set the colors for the bounding boxes\n",
    "colors = plt.cm.hsv(np.linspace(0, 1, 21)).tolist()\n",
    "classes = ['background',\n",
    "           'face']\n",
    "\n",
    "plt.figure(figsize=(20,12))\n",
    "# plt.imshow(orig_images[0])\n",
    "\n",
    "plt.imshow(Image.fromarray(a[0][0]))\n",
    "\n",
    "current_axis = plt.gca()\n",
    "# print(orig_images[0].shape[1])\n",
    "# print(orig_images[0].shape[0])\n",
    "# box = y_pred_thresh[][12]\n",
    "box = output\n",
    "\n",
    "\n",
    "\n",
    "color = colors[int(box[0])]\n",
    "#     label = '{}: {:.2f}'.format(classes[int(box[0])], box[1])\n",
    "#     current_axis.add_patch(plt.Rectangle((xmin, ymin), xmax-xmin, ymax-ymin, color=color, fill=False, linewidth=2))  \n",
    "\n",
    "for i in range(2,52, 2):\n",
    "    current_axis.add_patch(plt.Circle((box[i], box[i+1]), 0.5, color=color))\n",
    "    \n",
    "# for box in y_pred_thresh[1]:\n",
    "#     # Transform the predicted bounding boxes for the 300x300 image to the original image dimensions.\n",
    "\n",
    "    \n",
    "    \n",
    "#     color = colors[int(box[0])]\n",
    "#     label = '{}: {:.2f}'.format(classes[int(box[0])], box[1])\n",
    "#     current_axis.add_patch(plt.Rectangle((xmin, ymin), xmax-xmin, ymax-ymin, color=color, fill=False, linewidth=2))  \n",
    "\n",
    "\n",
    "#     label = '{}: {:.2f}'.format(classes[int(box[0])], box[1])\n",
    "#     current_axis.text(xmin, ymin, '', size='x-large', color='white', bbox={'facecolor':color, 'alpha':1.0})"
   ]
  },
  {
   "cell_type": "code",
   "execution_count": null,
   "metadata": {},
   "outputs": [],
   "source": [
    "orig_images = [] # Store the images here.\n",
    "input_images = [] # Store resized versions of the images here.\n",
    "\n",
    "# We'll only load one image in this example.\n",
    "img_path = 'data/widerface/val/images/49--Greeting/49_Greeting_peoplegreeting_49_456.jpg'\n",
    "\n",
    "orig_images.append(imread(img_path))\n",
    "img = image.load_img(img_path, target_size=(img_height, img_width))\n",
    "img = image.img_to_array(img) \n",
    "input_images.append(img)\n",
    "input_images = np.array(input_images)"
   ]
  },
  {
   "cell_type": "code",
   "execution_count": null,
   "metadata": {},
   "outputs": [],
   "source": []
  },
  {
   "cell_type": "code",
   "execution_count": null,
   "metadata": {},
   "outputs": [],
   "source": [
    "confidence_threshold = 0.6\n",
    "print(y_pred.shape)\n",
    "y_pred_thresh = [y_pred[k][y_pred[k,:,1] > confidence_threshold] for k in range(y_pred.shape[0])]\n",
    "\n",
    "np.set_printoptions(precision=2, suppress=True, linewidth=90)\n",
    "print(\"Predicted boxes:\\n\")\n",
    "print('   class    conf     xmin     ymin     xmax     ymax    kp1_x   kp1_y   kp2_x    kp2_y   kp3_x     kp3_y    kp4_x    kp4_y   kp5_x   kp5_y')\n",
    "print(y_pred_thresh[0])\n",
    "print(y_pred_thresh[0].shape)"
   ]
  },
  {
   "cell_type": "code",
   "execution_count": null,
   "metadata": {},
   "outputs": [],
   "source": [
    "predictor_sizes = [(16,16),(8,8)]\n",
    "\n",
    "ssd_input_encoder = SSDInputEncoder(img_height=img_height,\n",
    "                                    img_width=img_width,\n",
    "                                    n_classes=n_classes,\n",
    "                                    predictor_sizes=predictor_sizes,\n",
    "                                    scales=scales,\n",
    "                                    aspect_ratios_per_layer=aspect_ratios,\n",
    "                                    steps=steps,\n",
    "                                    offsets=offsets,\n",
    "                                    clip_boxes=clip_boxes,\n",
    "                                    variances=variances,\n",
    "                                    matching_type='multi',\n",
    "                                    pos_iou_threshold=0.5,\n",
    "                                    neg_iou_limit=0.5,\n",
    "                                    normalize_coords=normalize_coords)"
   ]
  },
  {
   "cell_type": "code",
   "execution_count": null,
   "metadata": {},
   "outputs": [],
   "source": []
  }
 ],
 "metadata": {
  "kernelspec": {
   "display_name": "Python 3",
   "language": "python",
   "name": "python3"
  },
  "language_info": {
   "codemirror_mode": {
    "name": "ipython",
    "version": 3
   },
   "file_extension": ".py",
   "mimetype": "text/x-python",
   "name": "python",
   "nbconvert_exporter": "python",
   "pygments_lexer": "ipython3",
   "version": "3.6.9"
  }
 },
 "nbformat": 4,
 "nbformat_minor": 4
}
