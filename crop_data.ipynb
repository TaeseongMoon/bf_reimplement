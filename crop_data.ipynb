{
 "cells": [
  {
   "cell_type": "code",
   "execution_count": 6,
   "metadata": {},
   "outputs": [],
   "source": [
    "import os\n",
    "from os.path import join, basename, dirname\n",
    "from collections import defaultdict\n",
    "\n",
    "img_path = './data/widerface/train/images'\n",
    "save_path = './data/cropped_widerface/images'\n",
    "data = open('./data/train_annos_simple.csv')\n",
    "data = data.readlines()[1:]\n",
    "dic = defaultdict(list)\n",
    "\n",
    "for line in data:\n",
    "    a = line.strip().split(',')\n",
    "    comp = [a[1],a[3],a[2],a[4],float(a[5]),float(a[6]),float(a[7]),float(a[8]),float(a[9]),float(a[10]),float(a[11]),float(a[12]),float(a[13]),float(a[14])]\n",
    "    comp = list(map(int,comp))\n",
    "    dic[a[0]].append(comp)\n",
    "    \n",
    "    \n",
    "    "
   ]
  },
  {
   "cell_type": "code",
   "execution_count": 24,
   "metadata": {},
   "outputs": [],
   "source": [
    "from PIL import Image\n",
    "\n",
    "anno_file = open('./data/train_annos_cropped.csv', 'w')\n",
    "anno_file.write('img_file,xmin,xmax,ymin,ymax,kp1_x,kp1_y,kp2_x,kp2_y,kp3_x,kp3_y,kp4_x,kp4_y,kp5_x,kp5_y,class_id\\n')\n",
    "for img_name in dic:\n",
    "    img = Image.open(join(img_path, img_name))\n",
    "    x, y = img.size\n",
    "    os.makedirs(join(save_path, basename(dirname(img_name))), exist_ok=True)\n",
    "    for idx, annos in enumerate(dic[img_name]):\n",
    "        xmin = annos[0]\n",
    "        ymin = annos[1]\n",
    "        xmax = annos[2]\n",
    "        ymax = annos[3]\n",
    "        width = xmax - xmin\n",
    "        height = ymax - ymin\n",
    "        crop_xmin = max(0, int(xmin - width*0.2))\n",
    "        crop_xmax = min(x, int(xmax + width*0.2))\n",
    "        crop_ymin = max(0, int(ymin - height*0.2))\n",
    "        crop_ymax = min(y, int(ymax + height*0.2))\n",
    "        kp1_x = annos[4] - crop_xmin\n",
    "        kp1_y = annos[5] - crop_ymin\n",
    "        kp2_x = annos[6] - crop_xmin\n",
    "        kp2_y = annos[7] - crop_ymin\n",
    "        kp3_x = annos[8] - crop_xmin\n",
    "        kp3_y = annos[9] - crop_ymin\n",
    "        kp4_x = annos[10] - crop_xmin\n",
    "        kp4_y = annos[11] - crop_ymin\n",
    "        kp5_x = annos[12] - crop_xmin\n",
    "        kp5_y = annos[13] - crop_ymin\n",
    "        \n",
    "        cropped_img = img.crop((crop_xmin,crop_ymin,crop_xmax,crop_ymax))\n",
    "        cropped_img.save(join(save_path, f'{img_name[:-4]}_{idx}.jpg'))\n",
    "  \n",
    "        anno_file.write(f'{img_name[:-4]}_{idx}.jpg,{xmin - crop_xmin},{xmax - crop_xmin},{ymin - crop_ymin},{ymax - crop_ymin},{kp1_x},{kp1_y},{kp2_x},{kp2_y},{kp3_x},{kp3_y},{kp4_x},{kp4_y},{kp5_x},{kp5_y},1\\n')\n",
    "        "
   ]
  },
  {
   "cell_type": "code",
   "execution_count": null,
   "metadata": {},
   "outputs": [],
   "source": []
  }
 ],
 "metadata": {
  "kernelspec": {
   "display_name": "Python 3",
   "language": "python",
   "name": "python3"
  },
  "language_info": {
   "codemirror_mode": {
    "name": "ipython",
    "version": 3
   },
   "file_extension": ".py",
   "mimetype": "text/x-python",
   "name": "python",
   "nbconvert_exporter": "python",
   "pygments_lexer": "ipython3",
   "version": "3.6.9"
  }
 },
 "nbformat": 4,
 "nbformat_minor": 4
}
